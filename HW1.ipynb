{
  "nbformat": 4,
  "nbformat_minor": 0,
  "metadata": {
    "colab": {
      "name": "HW1.ipynb",
      "provenance": [],
      "authorship_tag": "ABX9TyMNi0kaUxGR/T1Gv9gUL3Po"
    },
    "kernelspec": {
      "name": "python3",
      "display_name": "Python 3"
    },
    "language_info": {
      "name": "python"
    }
  },
  "cells": [
    {
      "cell_type": "code",
      "metadata": {
        "id": "3vbwIL-E_4BX"
      },
      "source": [
        "import pandas as pd"
      ],
      "execution_count": 1,
      "outputs": []
    },
    {
      "cell_type": "code",
      "metadata": {
        "colab": {
          "base_uri": "https://localhost:8080/",
          "height": 204
        },
        "id": "XiGw3QlC_-d1",
        "outputId": "46fbe94d-e5a8-49a7-809c-8d05119af954"
      },
      "source": [
        "data_url = \"https://raw.githubusercontent.com/justmarkham/DAT8/master/data/chipotle.tsv\"\n",
        "df = pd.read_csv(data_url, sep=\"\\t\")\n",
        "df.head()"
      ],
      "execution_count": 2,
      "outputs": [
        {
          "output_type": "execute_result",
          "data": {
            "text/html": [
              "<div>\n",
              "<style scoped>\n",
              "    .dataframe tbody tr th:only-of-type {\n",
              "        vertical-align: middle;\n",
              "    }\n",
              "\n",
              "    .dataframe tbody tr th {\n",
              "        vertical-align: top;\n",
              "    }\n",
              "\n",
              "    .dataframe thead th {\n",
              "        text-align: right;\n",
              "    }\n",
              "</style>\n",
              "<table border=\"1\" class=\"dataframe\">\n",
              "  <thead>\n",
              "    <tr style=\"text-align: right;\">\n",
              "      <th></th>\n",
              "      <th>order_id</th>\n",
              "      <th>quantity</th>\n",
              "      <th>item_name</th>\n",
              "      <th>choice_description</th>\n",
              "      <th>item_price</th>\n",
              "    </tr>\n",
              "  </thead>\n",
              "  <tbody>\n",
              "    <tr>\n",
              "      <th>0</th>\n",
              "      <td>1</td>\n",
              "      <td>1</td>\n",
              "      <td>Chips and Fresh Tomato Salsa</td>\n",
              "      <td>NaN</td>\n",
              "      <td>$2.39</td>\n",
              "    </tr>\n",
              "    <tr>\n",
              "      <th>1</th>\n",
              "      <td>1</td>\n",
              "      <td>1</td>\n",
              "      <td>Izze</td>\n",
              "      <td>[Clementine]</td>\n",
              "      <td>$3.39</td>\n",
              "    </tr>\n",
              "    <tr>\n",
              "      <th>2</th>\n",
              "      <td>1</td>\n",
              "      <td>1</td>\n",
              "      <td>Nantucket Nectar</td>\n",
              "      <td>[Apple]</td>\n",
              "      <td>$3.39</td>\n",
              "    </tr>\n",
              "    <tr>\n",
              "      <th>3</th>\n",
              "      <td>1</td>\n",
              "      <td>1</td>\n",
              "      <td>Chips and Tomatillo-Green Chili Salsa</td>\n",
              "      <td>NaN</td>\n",
              "      <td>$2.39</td>\n",
              "    </tr>\n",
              "    <tr>\n",
              "      <th>4</th>\n",
              "      <td>2</td>\n",
              "      <td>2</td>\n",
              "      <td>Chicken Bowl</td>\n",
              "      <td>[Tomatillo-Red Chili Salsa (Hot), [Black Beans...</td>\n",
              "      <td>$16.98</td>\n",
              "    </tr>\n",
              "  </tbody>\n",
              "</table>\n",
              "</div>"
            ],
            "text/plain": [
              "   order_id  ...  item_price\n",
              "0         1  ...      $2.39 \n",
              "1         1  ...      $3.39 \n",
              "2         1  ...      $3.39 \n",
              "3         1  ...      $2.39 \n",
              "4         2  ...     $16.98 \n",
              "\n",
              "[5 rows x 5 columns]"
            ]
          },
          "metadata": {},
          "execution_count": 2
        }
      ]
    },
    {
      "cell_type": "markdown",
      "metadata": {
        "id": "FCTBYxLUAMpq"
      },
      "source": [
        "1. Вывести: кол-во наблюдений в датасете\n"
      ]
    },
    {
      "cell_type": "code",
      "metadata": {
        "colab": {
          "base_uri": "https://localhost:8080/"
        },
        "id": "rUnYfX02AJXU",
        "outputId": "f9a093a4-c190-41d2-c137-b140c97b458d"
      },
      "source": [
        "df.shape[0]"
      ],
      "execution_count": 3,
      "outputs": [
        {
          "output_type": "execute_result",
          "data": {
            "text/plain": [
              "4622"
            ]
          },
          "metadata": {},
          "execution_count": 3
        }
      ]
    },
    {
      "cell_type": "markdown",
      "metadata": {
        "id": "IB1NGWCeBYpL"
      },
      "source": [
        "2. Вывести названия столбцов"
      ]
    },
    {
      "cell_type": "code",
      "metadata": {
        "colab": {
          "base_uri": "https://localhost:8080/"
        },
        "id": "IWLaImxgBU-m",
        "outputId": "e460d186-4420-4859-8ef1-9064086141bf"
      },
      "source": [
        "df.columns.to_list()"
      ],
      "execution_count": 4,
      "outputs": [
        {
          "output_type": "execute_result",
          "data": {
            "text/plain": [
              "['order_id', 'quantity', 'item_name', 'choice_description', 'item_price']"
            ]
          },
          "metadata": {},
          "execution_count": 4
        }
      ]
    },
    {
      "cell_type": "markdown",
      "metadata": {
        "id": "rprilWORBarI"
      },
      "source": [
        "3. Определить самую частую позицию (item) в заказе"
      ]
    },
    {
      "cell_type": "code",
      "metadata": {
        "colab": {
          "base_uri": "https://localhost:8080/",
          "height": 35
        },
        "id": "OkjS0cPkBeQm",
        "outputId": "384ea881-17ee-420a-eee5-4432d1606d51"
      },
      "source": [
        "df.item_name.mode()[0]"
      ],
      "execution_count": 5,
      "outputs": [
        {
          "output_type": "execute_result",
          "data": {
            "application/vnd.google.colaboratory.intrinsic+json": {
              "type": "string"
            },
            "text/plain": [
              "'Chicken Bowl'"
            ]
          },
          "metadata": {},
          "execution_count": 5
        }
      ]
    },
    {
      "cell_type": "markdown",
      "metadata": {
        "id": "rS-aVMzZCD2-"
      },
      "source": [
        "4. Построить гистрограмму частоты заказов по позициям (item )"
      ]
    },
    {
      "cell_type": "code",
      "metadata": {
        "colab": {
          "base_uri": "https://localhost:8080/",
          "height": 527
        },
        "id": "hvCHTToZCDZr",
        "outputId": "a92f6d02-ce31-4b66-dde2-0196360c41c6"
      },
      "source": [
        "graph = df.item_name.value_counts().plot(kind='bar', figsize=(15, 5))\n",
        "graph.set_ylabel('frequency')\n",
        "graph.set_xlabel('item')"
      ],
      "execution_count": 6,
      "outputs": [
        {
          "output_type": "execute_result",
          "data": {
            "text/plain": [
              "Text(0.5, 0, 'item')"
            ]
          },
          "metadata": {},
          "execution_count": 6
        },
        {
          "output_type": "display_data",
          "data": {
            "image/png": "[encoded data removed]",
            "text/plain": [
              "<Figure size 1080x360 with 1 Axes>"
            ]
          },
          "metadata": {
            "needs_background": "light"
          }
        }
      ]
    },
    {
      "cell_type": "markdown",
      "metadata": {
        "id": "1PTzTSo1CGze"
      },
      "source": [
        "5. Измените тип переменной item_price c с помощью лямбды функции"
      ]
    },
    {
      "cell_type": "code",
      "metadata": {
        "id": "ldGUbIy4CJg6"
      },
      "source": [
        "df.item_price = df.item_price.apply(lambda x: float(x[1:]))"
      ],
      "execution_count": 7,
      "outputs": []
    },
    {
      "cell_type": "markdown",
      "metadata": {
        "id": "be1PsJOICNVO"
      },
      "source": [
        "6. Построить гистограмму кол-во денег заработанных по каждой позиции (item)"
      ]
    },
    {
      "cell_type": "code",
      "metadata": {
        "colab": {
          "base_uri": "https://localhost:8080/",
          "height": 527
        },
        "id": "VWUE8GKfCQUC",
        "outputId": "95afed95-af40-4409-d364-3d450218ad59"
      },
      "source": [
        "graph = df.groupby('item_name').sum('item_price').sort_values('item_price', ascending=False).item_price.plot(kind='bar', figsize=(15, 5))\n",
        "graph.set_ylabel('money')\n",
        "graph.set_xlabel('item')"
      ],
      "execution_count": 8,
      "outputs": [
        {
          "output_type": "execute_result",
          "data": {
            "text/plain": [
              "Text(0.5, 0, 'item')"
            ]
          },
          "metadata": {},
          "execution_count": 8
        },
        {
          "output_type": "display_data",
          "data": {
            "image/png": "[encoded data removed]",
            "text/plain": [
              "<Figure size 1080x360 with 1 Axes>"
            ]
          },
          "metadata": {
            "needs_background": "light"
          }
        }
      ]
    },
    {
      "cell_type": "markdown",
      "metadata": {
        "id": "1tao6nWhCQ1-"
      },
      "source": [
        "7. Средняя сумма заказа? (минимум 2 способа)"
      ]
    },
    {
      "cell_type": "code",
      "metadata": {
        "colab": {
          "base_uri": "https://localhost:8080/"
        },
        "id": "0QSRaVq1CSx4",
        "outputId": "6ff47ef7-6b69-4d5e-d53d-467abdc4ed41"
      },
      "source": [
        "print(round(df.groupby('order_id').item_price.sum().mean(), 2))\n",
        "print(round(df.item_price.sum() / df.order_id.drop_duplicates().shape[0], 2))"
      ],
      "execution_count": 9,
      "outputs": [
        {
          "output_type": "stream",
          "name": "stdout",
          "text": [
            "18.81\n",
            "18.81\n"
          ]
        }
      ]
    },
    {
      "cell_type": "markdown",
      "metadata": {
        "id": "SzN9CN78CV1V"
      },
      "source": [
        "8. Выведите среднее, минимальное и максимальное, медианное значения позиций в заказе"
      ]
    },
    {
      "cell_type": "code",
      "metadata": {
        "colab": {
          "base_uri": "https://localhost:8080/",
          "height": 173
        },
        "id": "os-nMAA3CXYK",
        "outputId": "9c89fc53-9bdf-40d1-9124-fc4e0092e204"
      },
      "source": [
        "cnts = df.groupby(['order_id'])['order_id'].count()\n",
        "cnts.describe().loc[['mean', 'min', 'max', '50%']].rename({\"50%\": \"median\"}).reset_index().rename(columns={\"order_id\": \"quantity\"})"
      ],
      "execution_count": 10,
      "outputs": [
        {
          "output_type": "execute_result",
          "data": {
            "text/html": [
              "<div>\n",
              "<style scoped>\n",
              "    .dataframe tbody tr th:only-of-type {\n",
              "        vertical-align: middle;\n",
              "    }\n",
              "\n",
              "    .dataframe tbody tr th {\n",
              "        vertical-align: top;\n",
              "    }\n",
              "\n",
              "    .dataframe thead th {\n",
              "        text-align: right;\n",
              "    }\n",
              "</style>\n",
              "<table border=\"1\" class=\"dataframe\">\n",
              "  <thead>\n",
              "    <tr style=\"text-align: right;\">\n",
              "      <th></th>\n",
              "      <th>index</th>\n",
              "      <th>quantity</th>\n",
              "    </tr>\n",
              "  </thead>\n",
              "  <tbody>\n",
              "    <tr>\n",
              "      <th>0</th>\n",
              "      <td>mean</td>\n",
              "      <td>2.520174</td>\n",
              "    </tr>\n",
              "    <tr>\n",
              "      <th>1</th>\n",
              "      <td>min</td>\n",
              "      <td>1.000000</td>\n",
              "    </tr>\n",
              "    <tr>\n",
              "      <th>2</th>\n",
              "      <td>max</td>\n",
              "      <td>23.000000</td>\n",
              "    </tr>\n",
              "    <tr>\n",
              "      <th>3</th>\n",
              "      <td>median</td>\n",
              "      <td>2.000000</td>\n",
              "    </tr>\n",
              "  </tbody>\n",
              "</table>\n",
              "</div>"
            ],
            "text/plain": [
              "    index   quantity\n",
              "0    mean   2.520174\n",
              "1     min   1.000000\n",
              "2     max  23.000000\n",
              "3  median   2.000000"
            ]
          },
          "metadata": {},
          "execution_count": 10
        }
      ]
    },
    {
      "cell_type": "markdown",
      "metadata": {
        "id": "YfpvorZNDE29"
      },
      "source": [
        "9. Определить статистику заказов стейков, а также статистику заказов прожарки."
      ]
    },
    {
      "cell_type": "code",
      "metadata": {
        "colab": {
          "base_uri": "https://localhost:8080/",
          "height": 266
        },
        "id": "mVcOYMEJDG8z",
        "outputId": "556478eb-f674-4c8f-f81b-ee98127c3d32"
      },
      "source": [
        "steak_stat = df[df.item_name.str.contains(\"Steak\")].groupby('item_name').agg({'item_price': 'mean', 'quantity': 'count'}).sort_values(\"quantity\", ascending=False)\n",
        "steak_stat = steak_stat.rename(columns={\"quantity\": \"total_orders\", \"item_price\": \"average_price\"})\n",
        "steak_stat"
      ],
      "execution_count": 11,
      "outputs": [
        {
          "output_type": "execute_result",
          "data": {
            "text/html": [
              "<div>\n",
              "<style scoped>\n",
              "    .dataframe tbody tr th:only-of-type {\n",
              "        vertical-align: middle;\n",
              "    }\n",
              "\n",
              "    .dataframe tbody tr th {\n",
              "        vertical-align: top;\n",
              "    }\n",
              "\n",
              "    .dataframe thead th {\n",
              "        text-align: right;\n",
              "    }\n",
              "</style>\n",
              "<table border=\"1\" class=\"dataframe\">\n",
              "  <thead>\n",
              "    <tr style=\"text-align: right;\">\n",
              "      <th></th>\n",
              "      <th>average_price</th>\n",
              "      <th>total_orders</th>\n",
              "    </tr>\n",
              "    <tr>\n",
              "      <th>item_name</th>\n",
              "      <th></th>\n",
              "      <th></th>\n",
              "    </tr>\n",
              "  </thead>\n",
              "  <tbody>\n",
              "    <tr>\n",
              "      <th>Steak Burrito</th>\n",
              "      <td>10.465842</td>\n",
              "      <td>368</td>\n",
              "    </tr>\n",
              "    <tr>\n",
              "      <th>Steak Bowl</th>\n",
              "      <td>10.711801</td>\n",
              "      <td>211</td>\n",
              "    </tr>\n",
              "    <tr>\n",
              "      <th>Steak Soft Tacos</th>\n",
              "      <td>9.746364</td>\n",
              "      <td>55</td>\n",
              "    </tr>\n",
              "    <tr>\n",
              "      <th>Steak Crispy Tacos</th>\n",
              "      <td>10.209714</td>\n",
              "      <td>35</td>\n",
              "    </tr>\n",
              "    <tr>\n",
              "      <th>Steak Salad Bowl</th>\n",
              "      <td>11.847931</td>\n",
              "      <td>29</td>\n",
              "    </tr>\n",
              "    <tr>\n",
              "      <th>Steak Salad</th>\n",
              "      <td>8.915000</td>\n",
              "      <td>4</td>\n",
              "    </tr>\n",
              "  </tbody>\n",
              "</table>\n",
              "</div>"
            ],
            "text/plain": [
              "                    average_price  total_orders\n",
              "item_name                                      \n",
              "Steak Burrito           10.465842           368\n",
              "Steak Bowl              10.711801           211\n",
              "Steak Soft Tacos         9.746364            55\n",
              "Steak Crispy Tacos      10.209714            35\n",
              "Steak Salad Bowl        11.847931            29\n",
              "Steak Salad              8.915000             4"
            ]
          },
          "metadata": {},
          "execution_count": 11
        }
      ]
    },
    {
      "cell_type": "code",
      "metadata": {
        "colab": {
          "base_uri": "https://localhost:8080/",
          "height": 173
        },
        "id": "-1v0RlC2DMCN",
        "outputId": "296d016e-c020-4880-b856-dacdeda057aa"
      },
      "source": [
        "types = [\"Hot\", \"Medium\", \"Mild\"]\n",
        "all_steaks = df[df.item_name.str.contains(\"Steak\")]\n",
        "roast_cnt = []\n",
        "for typ in types:\n",
        "    roast_cnt.append(all_steaks[all_steaks.choice_description.str.contains(typ)].shape[0])\n",
        "types.append(\"None\")\n",
        "roast_cnt.append(all_steaks[~all_steaks.choice_description.str.contains(\"Mild|Medium|Hot\")].shape[0])\n",
        "pd.DataFrame({\"Roast\": types, \"Quantity\": roast_cnt})"
      ],
      "execution_count": 12,
      "outputs": [
        {
          "output_type": "execute_result",
          "data": {
            "text/html": [
              "<div>\n",
              "<style scoped>\n",
              "    .dataframe tbody tr th:only-of-type {\n",
              "        vertical-align: middle;\n",
              "    }\n",
              "\n",
              "    .dataframe tbody tr th {\n",
              "        vertical-align: top;\n",
              "    }\n",
              "\n",
              "    .dataframe thead th {\n",
              "        text-align: right;\n",
              "    }\n",
              "</style>\n",
              "<table border=\"1\" class=\"dataframe\">\n",
              "  <thead>\n",
              "    <tr style=\"text-align: right;\">\n",
              "      <th></th>\n",
              "      <th>Roast</th>\n",
              "      <th>Quantity</th>\n",
              "    </tr>\n",
              "  </thead>\n",
              "  <tbody>\n",
              "    <tr>\n",
              "      <th>0</th>\n",
              "      <td>Hot</td>\n",
              "      <td>82</td>\n",
              "    </tr>\n",
              "    <tr>\n",
              "      <th>1</th>\n",
              "      <td>Medium</td>\n",
              "      <td>114</td>\n",
              "    </tr>\n",
              "    <tr>\n",
              "      <th>2</th>\n",
              "      <td>Mild</td>\n",
              "      <td>105</td>\n",
              "    </tr>\n",
              "    <tr>\n",
              "      <th>3</th>\n",
              "      <td>None</td>\n",
              "      <td>465</td>\n",
              "    </tr>\n",
              "  </tbody>\n",
              "</table>\n",
              "</div>"
            ],
            "text/plain": [
              "    Roast  Quantity\n",
              "0     Hot        82\n",
              "1  Medium       114\n",
              "2    Mild       105\n",
              "3    None       465"
            ]
          },
          "metadata": {},
          "execution_count": 12
        }
      ]
    },
    {
      "cell_type": "markdown",
      "metadata": {
        "id": "d1eiYkDfDJ3L"
      },
      "source": [
        "10. Добавить новый столбец цен на каждую позицию в заказе в рублях."
      ]
    },
    {
      "cell_type": "code",
      "metadata": {
        "id": "lV4yRsmJDRAN"
      },
      "source": [
        "rub = 70\n",
        "df = df.assign(item_price_rub=df.item_price * rub)"
      ],
      "execution_count": 13,
      "outputs": []
    },
    {
      "cell_type": "markdown",
      "metadata": {
        "id": "tyiYXbloDS3I"
      },
      "source": [
        "11. Сгруппировать заказы по входящим позициям в него. Отдельно сгруппировать по стейкам во всех видах прожарках."
      ]
    },
    {
      "cell_type": "code",
      "metadata": {
        "colab": {
          "base_uri": "https://localhost:8080/",
          "height": 450
        },
        "id": "7cDBhyf-DVj6",
        "outputId": "a8413956-445b-4d5a-b8d5-860f4c3db1d8"
      },
      "source": [
        "scalar_df = df[~df.item_name.str.contains(\"and\")].reset_index()\n",
        "and_rows = df[df.item_name.str.contains(\"and\")].reset_index()\n",
        "and_rows.item_name = and_rows.item_name.apply(lambda x: x.split(\" and \"))\n",
        "scalar_df = scalar_df.append(and_rows.explode(\"item_name\"))\n",
        "pd.DataFrame(scalar_df.groupby(['item_name', 'order_id']).agg({\"quantity\": \"count\"}))"
      ],
      "execution_count": 14,
      "outputs": [
        {
          "output_type": "execute_result",
          "data": {
            "text/html": [
              "<div>\n",
              "<style scoped>\n",
              "    .dataframe tbody tr th:only-of-type {\n",
              "        vertical-align: middle;\n",
              "    }\n",
              "\n",
              "    .dataframe tbody tr th {\n",
              "        vertical-align: top;\n",
              "    }\n",
              "\n",
              "    .dataframe thead th {\n",
              "        text-align: right;\n",
              "    }\n",
              "</style>\n",
              "<table border=\"1\" class=\"dataframe\">\n",
              "  <thead>\n",
              "    <tr style=\"text-align: right;\">\n",
              "      <th></th>\n",
              "      <th></th>\n",
              "      <th>quantity</th>\n",
              "    </tr>\n",
              "    <tr>\n",
              "      <th>item_name</th>\n",
              "      <th>order_id</th>\n",
              "      <th></th>\n",
              "    </tr>\n",
              "  </thead>\n",
              "  <tbody>\n",
              "    <tr>\n",
              "      <th rowspan=\"5\" valign=\"top\">6 Pack Soft Drink</th>\n",
              "      <th>129</th>\n",
              "      <td>1</td>\n",
              "    </tr>\n",
              "    <tr>\n",
              "      <th>148</th>\n",
              "      <td>1</td>\n",
              "    </tr>\n",
              "    <tr>\n",
              "      <th>154</th>\n",
              "      <td>1</td>\n",
              "    </tr>\n",
              "    <tr>\n",
              "      <th>168</th>\n",
              "      <td>1</td>\n",
              "    </tr>\n",
              "    <tr>\n",
              "      <th>182</th>\n",
              "      <td>1</td>\n",
              "    </tr>\n",
              "    <tr>\n",
              "      <th>...</th>\n",
              "      <th>...</th>\n",
              "      <td>...</td>\n",
              "    </tr>\n",
              "    <tr>\n",
              "      <th rowspan=\"5\" valign=\"top\">Veggie Soft Tacos</th>\n",
              "      <th>567</th>\n",
              "      <td>1</td>\n",
              "    </tr>\n",
              "    <tr>\n",
              "      <th>688</th>\n",
              "      <td>1</td>\n",
              "    </tr>\n",
              "    <tr>\n",
              "      <th>948</th>\n",
              "      <td>1</td>\n",
              "    </tr>\n",
              "    <tr>\n",
              "      <th>1132</th>\n",
              "      <td>1</td>\n",
              "    </tr>\n",
              "    <tr>\n",
              "      <th>1559</th>\n",
              "      <td>1</td>\n",
              "    </tr>\n",
              "  </tbody>\n",
              "</table>\n",
              "<p>4996 rows × 1 columns</p>\n",
              "</div>"
            ],
            "text/plain": [
              "                            quantity\n",
              "item_name         order_id          \n",
              "6 Pack Soft Drink 129              1\n",
              "                  148              1\n",
              "                  154              1\n",
              "                  168              1\n",
              "                  182              1\n",
              "...                              ...\n",
              "Veggie Soft Tacos 567              1\n",
              "                  688              1\n",
              "                  948              1\n",
              "                  1132             1\n",
              "                  1559             1\n",
              "\n",
              "[4996 rows x 1 columns]"
            ]
          },
          "metadata": {},
          "execution_count": 14
        }
      ]
    },
    {
      "cell_type": "code",
      "metadata": {
        "colab": {
          "base_uri": "https://localhost:8080/",
          "height": 450
        },
        "id": "v1viY5XEDYvr",
        "outputId": "d4022ce3-441b-40e2-9b76-96f352d7b5a4"
      },
      "source": [
        "roasts = pd.DataFrame(columns=['roast', 'order_id', 'item_name'])\n",
        "for typ in types[:3]:\n",
        "    res = all_steaks[all_steaks.choice_description.str.contains(typ)][['item_name', 'order_id']]\n",
        "    res = res.assign(roast=typ)\n",
        "    roasts = roasts.append(res)\n",
        "none_roast = all_steaks[~all_steaks.choice_description.str.contains(\"Mild|Medium|Hot\")][['item_name', 'order_id']]\n",
        "none_roast = none_roast.assign(roast=\"None\")\n",
        "roasts = roasts.append(none_roast)\n",
        "pd.DataFrame(roasts.groupby(['roast', 'order_id', 'item_name']).agg({\"item_name\": \"count\"}))"
      ],
      "execution_count": 15,
      "outputs": [
        {
          "output_type": "execute_result",
          "data": {
            "text/html": [
              "<div>\n",
              "<style scoped>\n",
              "    .dataframe tbody tr th:only-of-type {\n",
              "        vertical-align: middle;\n",
              "    }\n",
              "\n",
              "    .dataframe tbody tr th {\n",
              "        vertical-align: top;\n",
              "    }\n",
              "\n",
              "    .dataframe thead th {\n",
              "        text-align: right;\n",
              "    }\n",
              "</style>\n",
              "<table border=\"1\" class=\"dataframe\">\n",
              "  <thead>\n",
              "    <tr style=\"text-align: right;\">\n",
              "      <th></th>\n",
              "      <th></th>\n",
              "      <th></th>\n",
              "      <th>item_name</th>\n",
              "    </tr>\n",
              "    <tr>\n",
              "      <th>roast</th>\n",
              "      <th>order_id</th>\n",
              "      <th>item_name</th>\n",
              "      <th></th>\n",
              "    </tr>\n",
              "  </thead>\n",
              "  <tbody>\n",
              "    <tr>\n",
              "      <th rowspan=\"5\" valign=\"top\">Hot</th>\n",
              "      <th>21</th>\n",
              "      <th>Steak Burrito</th>\n",
              "      <td>1</td>\n",
              "    </tr>\n",
              "    <tr>\n",
              "      <th>22</th>\n",
              "      <th>Steak Burrito</th>\n",
              "      <td>1</td>\n",
              "    </tr>\n",
              "    <tr>\n",
              "      <th rowspan=\"2\" valign=\"top\">29</th>\n",
              "      <th>Steak Burrito</th>\n",
              "      <td>1</td>\n",
              "    </tr>\n",
              "    <tr>\n",
              "      <th>Steak Soft Tacos</th>\n",
              "      <td>1</td>\n",
              "    </tr>\n",
              "    <tr>\n",
              "      <th>30</th>\n",
              "      <th>Steak Burrito</th>\n",
              "      <td>1</td>\n",
              "    </tr>\n",
              "    <tr>\n",
              "      <th>...</th>\n",
              "      <th>...</th>\n",
              "      <th>...</th>\n",
              "      <td>...</td>\n",
              "    </tr>\n",
              "    <tr>\n",
              "      <th rowspan=\"5\" valign=\"top\">None</th>\n",
              "      <th>1810</th>\n",
              "      <th>Steak Crispy Tacos</th>\n",
              "      <td>1</td>\n",
              "    </tr>\n",
              "    <tr>\n",
              "      <th>1818</th>\n",
              "      <th>Steak Salad Bowl</th>\n",
              "      <td>1</td>\n",
              "    </tr>\n",
              "    <tr>\n",
              "      <th>1829</th>\n",
              "      <th>Steak Burrito</th>\n",
              "      <td>1</td>\n",
              "    </tr>\n",
              "    <tr>\n",
              "      <th>1830</th>\n",
              "      <th>Steak Burrito</th>\n",
              "      <td>1</td>\n",
              "    </tr>\n",
              "    <tr>\n",
              "      <th>1833</th>\n",
              "      <th>Steak Burrito</th>\n",
              "      <td>2</td>\n",
              "    </tr>\n",
              "  </tbody>\n",
              "</table>\n",
              "<p>717 rows × 1 columns</p>\n",
              "</div>"
            ],
            "text/plain": [
              "                                   item_name\n",
              "roast order_id item_name                    \n",
              "Hot   21       Steak Burrito               1\n",
              "      22       Steak Burrito               1\n",
              "      29       Steak Burrito               1\n",
              "               Steak Soft Tacos            1\n",
              "      30       Steak Burrito               1\n",
              "...                                      ...\n",
              "None  1810     Steak Crispy Tacos          1\n",
              "      1818     Steak Salad Bowl            1\n",
              "      1829     Steak Burrito               1\n",
              "      1830     Steak Burrito               1\n",
              "      1833     Steak Burrito               2\n",
              "\n",
              "[717 rows x 1 columns]"
            ]
          },
          "metadata": {},
          "execution_count": 15
        }
      ]
    },
    {
      "cell_type": "markdown",
      "metadata": {
        "id": "_DqBAUsJDbIr"
      },
      "source": [
        "12. Определить цену по каждой позиции в отдельности."
      ]
    },
    {
      "cell_type": "code",
      "metadata": {
        "colab": {
          "base_uri": "https://localhost:8080/",
          "height": 1000
        },
        "id": "WwaIkcnEDc1w",
        "outputId": "f52f766c-64ba-4140-d28d-cd693d92b94b"
      },
      "source": [
        "df.item_price = round(df.item_price / df.quantity, 2)\n",
        "prices = df.groupby('item_name').agg({\"item_price\": lambda x: x.unique()})\n",
        "prices"
      ],
      "execution_count": 16,
      "outputs": [
        {
          "output_type": "execute_result",
          "data": {
            "text/html": [
              "<div>\n",
              "<style scoped>\n",
              "    .dataframe tbody tr th:only-of-type {\n",
              "        vertical-align: middle;\n",
              "    }\n",
              "\n",
              "    .dataframe tbody tr th {\n",
              "        vertical-align: top;\n",
              "    }\n",
              "\n",
              "    .dataframe thead th {\n",
              "        text-align: right;\n",
              "    }\n",
              "</style>\n",
              "<table border=\"1\" class=\"dataframe\">\n",
              "  <thead>\n",
              "    <tr style=\"text-align: right;\">\n",
              "      <th></th>\n",
              "      <th>item_price</th>\n",
              "    </tr>\n",
              "    <tr>\n",
              "      <th>item_name</th>\n",
              "      <th></th>\n",
              "    </tr>\n",
              "  </thead>\n",
              "  <tbody>\n",
              "    <tr>\n",
              "      <th>6 Pack Soft Drink</th>\n",
              "      <td>6.49</td>\n",
              "    </tr>\n",
              "    <tr>\n",
              "      <th>Barbacoa Bowl</th>\n",
              "      <td>[11.75, 9.25, 8.99, 11.48, 8.69, 11.49]</td>\n",
              "    </tr>\n",
              "    <tr>\n",
              "      <th>Barbacoa Burrito</th>\n",
              "      <td>[8.99, 9.25, 11.75, 11.08, 8.69, 11.48]</td>\n",
              "    </tr>\n",
              "    <tr>\n",
              "      <th>Barbacoa Crispy Tacos</th>\n",
              "      <td>[11.75, 9.25, 11.48, 8.99]</td>\n",
              "    </tr>\n",
              "    <tr>\n",
              "      <th>Barbacoa Salad Bowl</th>\n",
              "      <td>[11.89, 9.39]</td>\n",
              "    </tr>\n",
              "    <tr>\n",
              "      <th>Barbacoa Soft Tacos</th>\n",
              "      <td>[9.25, 8.99, 11.75, 11.48]</td>\n",
              "    </tr>\n",
              "    <tr>\n",
              "      <th>Bottled Water</th>\n",
              "      <td>[1.09, 1.5]</td>\n",
              "    </tr>\n",
              "    <tr>\n",
              "      <th>Bowl</th>\n",
              "      <td>7.4</td>\n",
              "    </tr>\n",
              "    <tr>\n",
              "      <th>Burrito</th>\n",
              "      <td>7.4</td>\n",
              "    </tr>\n",
              "    <tr>\n",
              "      <th>Canned Soda</th>\n",
              "      <td>1.09</td>\n",
              "    </tr>\n",
              "    <tr>\n",
              "      <th>Canned Soft Drink</th>\n",
              "      <td>1.25</td>\n",
              "    </tr>\n",
              "    <tr>\n",
              "      <th>Carnitas Bowl</th>\n",
              "      <td>[8.99, 11.75, 9.25, 11.48, 11.08]</td>\n",
              "    </tr>\n",
              "    <tr>\n",
              "      <th>Carnitas Burrito</th>\n",
              "      <td>[8.99, 9.25, 11.75, 11.48, 11.08, 8.69]</td>\n",
              "    </tr>\n",
              "    <tr>\n",
              "      <th>Carnitas Crispy Tacos</th>\n",
              "      <td>[9.25, 11.75, 8.99]</td>\n",
              "    </tr>\n",
              "    <tr>\n",
              "      <th>Carnitas Salad</th>\n",
              "      <td>8.99</td>\n",
              "    </tr>\n",
              "    <tr>\n",
              "      <th>Carnitas Salad Bowl</th>\n",
              "      <td>[11.89, 9.39]</td>\n",
              "    </tr>\n",
              "    <tr>\n",
              "      <th>Carnitas Soft Tacos</th>\n",
              "      <td>[9.25, 8.99, 11.75]</td>\n",
              "    </tr>\n",
              "    <tr>\n",
              "      <th>Chicken Bowl</th>\n",
              "      <td>[8.49, 10.98, 11.25, 8.75, 8.19, 10.58, 8.5]</td>\n",
              "    </tr>\n",
              "    <tr>\n",
              "      <th>Chicken Burrito</th>\n",
              "      <td>[8.49, 10.98, 8.75, 11.25, 10.58, 8.19]</td>\n",
              "    </tr>\n",
              "    <tr>\n",
              "      <th>Chicken Crispy Tacos</th>\n",
              "      <td>[8.75, 11.25, 8.49, 10.98]</td>\n",
              "    </tr>\n",
              "    <tr>\n",
              "      <th>Chicken Salad</th>\n",
              "      <td>[10.98, 8.49, 8.19]</td>\n",
              "    </tr>\n",
              "    <tr>\n",
              "      <th>Chicken Salad Bowl</th>\n",
              "      <td>[8.75, 11.25]</td>\n",
              "    </tr>\n",
              "    <tr>\n",
              "      <th>Chicken Soft Tacos</th>\n",
              "      <td>[8.75, 11.25, 8.49, 10.98]</td>\n",
              "    </tr>\n",
              "    <tr>\n",
              "      <th>Chips</th>\n",
              "      <td>[2.15, 1.99]</td>\n",
              "    </tr>\n",
              "    <tr>\n",
              "      <th>Chips and Fresh Tomato Salsa</th>\n",
              "      <td>[2.39, 2.95, 2.29]</td>\n",
              "    </tr>\n",
              "    <tr>\n",
              "      <th>Chips and Guacamole</th>\n",
              "      <td>[4.45, 3.99, 4.0, 3.89, 4.25]</td>\n",
              "    </tr>\n",
              "    <tr>\n",
              "      <th>Chips and Mild Fresh Tomato Salsa</th>\n",
              "      <td>3</td>\n",
              "    </tr>\n",
              "    <tr>\n",
              "      <th>Chips and Roasted Chili Corn Salsa</th>\n",
              "      <td>2.95</td>\n",
              "    </tr>\n",
              "    <tr>\n",
              "      <th>Chips and Roasted Chili-Corn Salsa</th>\n",
              "      <td>2.39</td>\n",
              "    </tr>\n",
              "    <tr>\n",
              "      <th>Chips and Tomatillo Green Chili Salsa</th>\n",
              "      <td>2.95</td>\n",
              "    </tr>\n",
              "    <tr>\n",
              "      <th>Chips and Tomatillo Red Chili Salsa</th>\n",
              "      <td>2.95</td>\n",
              "    </tr>\n",
              "    <tr>\n",
              "      <th>Chips and Tomatillo-Green Chili Salsa</th>\n",
              "      <td>2.39</td>\n",
              "    </tr>\n",
              "    <tr>\n",
              "      <th>Chips and Tomatillo-Red Chili Salsa</th>\n",
              "      <td>2.39</td>\n",
              "    </tr>\n",
              "    <tr>\n",
              "      <th>Crispy Tacos</th>\n",
              "      <td>7.4</td>\n",
              "    </tr>\n",
              "    <tr>\n",
              "      <th>Izze</th>\n",
              "      <td>3.39</td>\n",
              "    </tr>\n",
              "    <tr>\n",
              "      <th>Nantucket Nectar</th>\n",
              "      <td>3.39</td>\n",
              "    </tr>\n",
              "    <tr>\n",
              "      <th>Salad</th>\n",
              "      <td>7.4</td>\n",
              "    </tr>\n",
              "    <tr>\n",
              "      <th>Side of Chips</th>\n",
              "      <td>1.69</td>\n",
              "    </tr>\n",
              "    <tr>\n",
              "      <th>Steak Bowl</th>\n",
              "      <td>[8.99, 11.75, 11.48, 9.25, 11.08, 8.69]</td>\n",
              "    </tr>\n",
              "    <tr>\n",
              "      <th>Steak Burrito</th>\n",
              "      <td>[11.75, 9.25, 8.99, 11.48, 11.08, 8.69]</td>\n",
              "    </tr>\n",
              "    <tr>\n",
              "      <th>Steak Crispy Tacos</th>\n",
              "      <td>[9.25, 8.99, 8.69, 11.75]</td>\n",
              "    </tr>\n",
              "    <tr>\n",
              "      <th>Steak Salad</th>\n",
              "      <td>[8.99, 8.69]</td>\n",
              "    </tr>\n",
              "    <tr>\n",
              "      <th>Steak Salad Bowl</th>\n",
              "      <td>[11.89, 9.39]</td>\n",
              "    </tr>\n",
              "    <tr>\n",
              "      <th>Steak Soft Tacos</th>\n",
              "      <td>[9.25, 8.99, 11.75, 11.48]</td>\n",
              "    </tr>\n",
              "    <tr>\n",
              "      <th>Veggie Bowl</th>\n",
              "      <td>[11.25, 8.49, 8.75, 10.98]</td>\n",
              "    </tr>\n",
              "    <tr>\n",
              "      <th>Veggie Burrito</th>\n",
              "      <td>[11.25, 8.49, 10.98, 8.75]</td>\n",
              "    </tr>\n",
              "    <tr>\n",
              "      <th>Veggie Crispy Tacos</th>\n",
              "      <td>8.49</td>\n",
              "    </tr>\n",
              "    <tr>\n",
              "      <th>Veggie Salad</th>\n",
              "      <td>8.49</td>\n",
              "    </tr>\n",
              "    <tr>\n",
              "      <th>Veggie Salad Bowl</th>\n",
              "      <td>[11.25, 8.75]</td>\n",
              "    </tr>\n",
              "    <tr>\n",
              "      <th>Veggie Soft Tacos</th>\n",
              "      <td>[11.25, 8.75, 8.49]</td>\n",
              "    </tr>\n",
              "  </tbody>\n",
              "</table>\n",
              "</div>"
            ],
            "text/plain": [
              "                                                                         item_price\n",
              "item_name                                                                          \n",
              "6 Pack Soft Drink                                                              6.49\n",
              "Barbacoa Bowl                               [11.75, 9.25, 8.99, 11.48, 8.69, 11.49]\n",
              "Barbacoa Burrito                            [8.99, 9.25, 11.75, 11.08, 8.69, 11.48]\n",
              "Barbacoa Crispy Tacos                                    [11.75, 9.25, 11.48, 8.99]\n",
              "Barbacoa Salad Bowl                                                   [11.89, 9.39]\n",
              "Barbacoa Soft Tacos                                      [9.25, 8.99, 11.75, 11.48]\n",
              "Bottled Water                                                           [1.09, 1.5]\n",
              "Bowl                                                                            7.4\n",
              "Burrito                                                                         7.4\n",
              "Canned Soda                                                                    1.09\n",
              "Canned Soft Drink                                                              1.25\n",
              "Carnitas Bowl                                     [8.99, 11.75, 9.25, 11.48, 11.08]\n",
              "Carnitas Burrito                            [8.99, 9.25, 11.75, 11.48, 11.08, 8.69]\n",
              "Carnitas Crispy Tacos                                           [9.25, 11.75, 8.99]\n",
              "Carnitas Salad                                                                 8.99\n",
              "Carnitas Salad Bowl                                                   [11.89, 9.39]\n",
              "Carnitas Soft Tacos                                             [9.25, 8.99, 11.75]\n",
              "Chicken Bowl                           [8.49, 10.98, 11.25, 8.75, 8.19, 10.58, 8.5]\n",
              "Chicken Burrito                             [8.49, 10.98, 8.75, 11.25, 10.58, 8.19]\n",
              "Chicken Crispy Tacos                                     [8.75, 11.25, 8.49, 10.98]\n",
              "Chicken Salad                                                   [10.98, 8.49, 8.19]\n",
              "Chicken Salad Bowl                                                    [8.75, 11.25]\n",
              "Chicken Soft Tacos                                       [8.75, 11.25, 8.49, 10.98]\n",
              "Chips                                                                  [2.15, 1.99]\n",
              "Chips and Fresh Tomato Salsa                                     [2.39, 2.95, 2.29]\n",
              "Chips and Guacamole                                   [4.45, 3.99, 4.0, 3.89, 4.25]\n",
              "Chips and Mild Fresh Tomato Salsa                                                 3\n",
              "Chips and Roasted Chili Corn Salsa                                             2.95\n",
              "Chips and Roasted Chili-Corn Salsa                                             2.39\n",
              "Chips and Tomatillo Green Chili Salsa                                          2.95\n",
              "Chips and Tomatillo Red Chili Salsa                                            2.95\n",
              "Chips and Tomatillo-Green Chili Salsa                                          2.39\n",
              "Chips and Tomatillo-Red Chili Salsa                                            2.39\n",
              "Crispy Tacos                                                                    7.4\n",
              "Izze                                                                           3.39\n",
              "Nantucket Nectar                                                               3.39\n",
              "Salad                                                                           7.4\n",
              "Side of Chips                                                                  1.69\n",
              "Steak Bowl                                  [8.99, 11.75, 11.48, 9.25, 11.08, 8.69]\n",
              "Steak Burrito                               [11.75, 9.25, 8.99, 11.48, 11.08, 8.69]\n",
              "Steak Crispy Tacos                                        [9.25, 8.99, 8.69, 11.75]\n",
              "Steak Salad                                                            [8.99, 8.69]\n",
              "Steak Salad Bowl                                                      [11.89, 9.39]\n",
              "Steak Soft Tacos                                         [9.25, 8.99, 11.75, 11.48]\n",
              "Veggie Bowl                                              [11.25, 8.49, 8.75, 10.98]\n",
              "Veggie Burrito                                           [11.25, 8.49, 10.98, 8.75]\n",
              "Veggie Crispy Tacos                                                            8.49\n",
              "Veggie Salad                                                                   8.49\n",
              "Veggie Salad Bowl                                                     [11.25, 8.75]\n",
              "Veggie Soft Tacos                                               [11.25, 8.75, 8.49]"
            ]
          },
          "metadata": {},
          "execution_count": 16
        }
      ]
    }
  ]
}